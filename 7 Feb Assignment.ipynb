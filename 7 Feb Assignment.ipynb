{
 "cells": [
  {
   "cell_type": "code",
   "execution_count": 37,
   "id": "54533f7f-4929-43b0-9749-310695ffc672",
   "metadata": {},
   "outputs": [],
   "source": [
    "#Q1 ANSWER\n",
    "def passwordchecker(s):\n",
    "    upper=[]\n",
    "    lower=[]\n",
    "    number=[]\n",
    "    spchar=[]\n",
    "    specialcharacter=\"[@_!#$%^&*()<>?}{~:]\"\n",
    "    if len(s)==10:\n",
    "        for i in s:\n",
    "            if i.isupper():\n",
    "                upper.append(True)\n",
    "            elif i.islower():\n",
    "                lower.append(True)\n",
    "            elif i.isnumeric():\n",
    "                number.append(True)\n",
    "            elif i in specialcharacter:\n",
    "                spchar.append(True)\n",
    "        if len(upper)>=2 and len(lower)>=2 and len(number)>=1 and len(spchar)>=3:\n",
    "            return \"Valid Password\"\n",
    "        else:\n",
    "            return \"Invalid Password\"\n",
    "    else:\n",
    "        return \"Invalid Password\""
   ]
  },
  {
   "cell_type": "code",
   "execution_count": 38,
   "id": "0e421439-0bdf-475f-b669-f5e0a84a6345",
   "metadata": {},
   "outputs": [
    {
     "data": {
      "text/plain": [
       "'Valid Password'"
      ]
     },
     "execution_count": 38,
     "metadata": {},
     "output_type": "execute_result"
    }
   ],
   "source": [
    "passwordchecker(\"DaA#%&c123\")"
   ]
  },
  {
   "cell_type": "code",
   "execution_count": 39,
   "id": "dd92778a-4c5f-46da-8191-7cf1354e6925",
   "metadata": {},
   "outputs": [
    {
     "data": {
      "text/plain": [
       "'Invalid Password'"
      ]
     },
     "execution_count": 39,
     "metadata": {},
     "output_type": "execute_result"
    }
   ],
   "source": [
    "passwordchecker(\"Satya##ray@1\")"
   ]
  },
  {
   "cell_type": "code",
   "execution_count": 40,
   "id": "b660d5dc-4c06-4455-8f2d-cdafdb2eb125",
   "metadata": {},
   "outputs": [],
   "source": [
    "#Q2ANSWER\n"
   ]
  },
  {
   "cell_type": "code",
   "execution_count": 41,
   "id": "ceac2f07-cd7c-44f4-b628-b658b4fc7d8f",
   "metadata": {},
   "outputs": [],
   "source": [
    "#1st character is letter it checks\n",
    "firstletter=lambda a:True if a[0].isalpha() else False\n"
   ]
  },
  {
   "cell_type": "markdown",
   "id": "5e425c3e-c410-4385-87c2-15fef2689713",
   "metadata": {},
   "source": [
    "\"\"\"\n",
    "if the first character is a letter then it returns True \n",
    "else it returns False\n",
    "\"\"\""
   ]
  },
  {
   "cell_type": "code",
   "execution_count": 42,
   "id": "83e78109-da6c-49bd-b052-663e762b3a92",
   "metadata": {},
   "outputs": [
    {
     "data": {
      "text/plain": [
       "False"
      ]
     },
     "execution_count": 42,
     "metadata": {},
     "output_type": "execute_result"
    }
   ],
   "source": [
    "firstletter(\"1bcd\")#1st character is number"
   ]
  },
  {
   "cell_type": "code",
   "execution_count": 43,
   "id": "54dbc52f-a47e-4627-b5be-144f11c76189",
   "metadata": {},
   "outputs": [
    {
     "data": {
      "text/plain": [
       "True"
      ]
     },
     "execution_count": 43,
     "metadata": {},
     "output_type": "execute_result"
    }
   ],
   "source": [
    "firstletter(\"Abcd\")#1st character is a letter"
   ]
  },
  {
   "cell_type": "code",
   "execution_count": 44,
   "id": "e6ac5f6a-f572-451c-a812-d16662df8a58",
   "metadata": {},
   "outputs": [],
   "source": [
    "\n",
    "numericchecker=lambda a:True if a.isnumeric() else False"
   ]
  },
  {
   "cell_type": "markdown",
   "id": "a61a7f78-df92-4b1d-96d5-bb844a35de99",
   "metadata": {},
   "source": [
    "it checks whther the string is numeric or not if itis numeric then it will return True\n",
    "else False"
   ]
  },
  {
   "cell_type": "code",
   "execution_count": 45,
   "id": "67b2bb8a-0162-4446-8e92-35811d8f60d6",
   "metadata": {},
   "outputs": [
    {
     "data": {
      "text/plain": [
       "False"
      ]
     },
     "execution_count": 45,
     "metadata": {},
     "output_type": "execute_result"
    }
   ],
   "source": [
    "numericchecker(\"123a\")"
   ]
  },
  {
   "cell_type": "code",
   "execution_count": 46,
   "id": "06c442fe-2d03-48ba-a1ee-26b33ce75ad0",
   "metadata": {},
   "outputs": [
    {
     "data": {
      "text/plain": [
       "True"
      ]
     },
     "execution_count": 46,
     "metadata": {},
     "output_type": "execute_result"
    }
   ],
   "source": [
    "numericchecker(\"1234\")"
   ]
  },
  {
   "cell_type": "code",
   "execution_count": 47,
   "id": "8e446ea8-ddb6-4323-9174-b95a38876b17",
   "metadata": {},
   "outputs": [
    {
     "name": "stdout",
     "output_type": "stream",
     "text": [
      "{'orange': 80, 'mango': 99, 'grapes': 1000}\n"
     ]
    }
   ],
   "source": [
    "# SORTING THE GIVEN LIST WITH RESPECT TO NUMBERS IN THE TUPLE\n",
    "l=[(\"mango\",99),(\"orange\",80), (\"grapes\", 1000)]\n",
    "l=dict(l)\n",
    "l1=sorted(l,key=lambda a:l[a])\n",
    "l2=[l[i] for i in l1]\n",
    "x=zip(l1,l2)\n",
    "x=dict(x)\n",
    "print(x)\n"
   ]
  },
  {
   "cell_type": "code",
   "execution_count": 48,
   "id": "b1533e1d-6711-4c60-945c-803abac72beb",
   "metadata": {},
   "outputs": [
    {
     "name": "stdout",
     "output_type": "stream",
     "text": [
      "[1, 4, 9, 16, 25, 36, 49, 64, 81, 100]\n"
     ]
    }
   ],
   "source": [
    "# SQUARE OF NUMBERS FROM 1 TO 10, METHOD 1\n",
    "a=[i**2 for i in range(1,11)]\n",
    "print(a)"
   ]
  },
  {
   "cell_type": "code",
   "execution_count": 49,
   "id": "2e393ddc-adba-4a74-9ace-b25e6a6e50c1",
   "metadata": {},
   "outputs": [
    {
     "name": "stdout",
     "output_type": "stream",
     "text": [
      "[1, 4, 9, 16, 25, 36, 49, 64, 81, 100]\n"
     ]
    }
   ],
   "source": [
    "# SQUARE OF NUMBERS FROM 1 TO 10 ,METHOD 2\n",
    "b=list(map(lambda a:a**2,range(1,11)))\n",
    "print(b)"
   ]
  },
  {
   "cell_type": "code",
   "execution_count": 50,
   "id": "b0571c9f-1019-444b-8cf9-65db4705f622",
   "metadata": {},
   "outputs": [
    {
     "name": "stdout",
     "output_type": "stream",
     "text": [
      "[1.0, 1.26, 1.442, 1.587, 1.71, 1.817, 1.913, 2.0, 2.08, 2.154]\n"
     ]
    }
   ],
   "source": [
    "# CUBEROOTS OF NUMBERS FROM 1 TO 10, METHOD 1\n",
    "c=[round(i**(1/3),3) for i in range(1,11)]\n",
    "print(c)"
   ]
  },
  {
   "cell_type": "code",
   "execution_count": 51,
   "id": "3cc6e126-39ef-4cf3-b57a-d80917f82e1c",
   "metadata": {},
   "outputs": [
    {
     "name": "stdout",
     "output_type": "stream",
     "text": [
      "[1.0, 1.26, 1.442, 1.587, 1.71, 1.817, 1.913, 2.0, 2.08, 2.154]\n"
     ]
    }
   ],
   "source": [
    "# CUBEROOTS OF NUMBERS FROM 1 TO 10, METHOD 2\n",
    "d=list(map(lambda a:round(a**(1/3),3),range(1,11)))\n",
    "print(d)"
   ]
  },
  {
   "cell_type": "code",
   "execution_count": 52,
   "id": "306d4681-a774-487a-a8f5-5951858bdfeb",
   "metadata": {},
   "outputs": [],
   "source": [
    "#CHECK WHETHER IF THE NUMBER IS EVEN OR ODD\n",
    "evenchecker=lambda a:\"even\" if a%2==0 else \"odd\""
   ]
  },
  {
   "cell_type": "code",
   "execution_count": 53,
   "id": "8689354c-d41c-4b7a-bfd3-a16d94d77dc2",
   "metadata": {},
   "outputs": [
    {
     "data": {
      "text/plain": [
       "'odd'"
      ]
     },
     "execution_count": 53,
     "metadata": {},
     "output_type": "execute_result"
    }
   ],
   "source": [
    "evenchecker(11)"
   ]
  },
  {
   "cell_type": "code",
   "execution_count": 54,
   "id": "c15718d8-91b6-4514-9bc5-815eee98409f",
   "metadata": {},
   "outputs": [
    {
     "name": "stdout",
     "output_type": "stream",
     "text": [
      "[1, 3, 5, 7, 9]\n"
     ]
    }
   ],
   "source": [
    "# FILTER ODD NUMBERS FROM THE GIVEN LIST\n",
    "e=list(filter(lambda a:a%2!=0,[1,2,3,4,5,6,7,8,9,10]))\n",
    "print(e)"
   ]
  },
  {
   "cell_type": "code",
   "execution_count": 55,
   "id": "ff0c2901-d1a7-4784-8a0c-19f690c4ecab",
   "metadata": {},
   "outputs": [
    {
     "name": "stdout",
     "output_type": "stream",
     "text": [
      "[1, 2, 3, 4, 5, 6]\n",
      "[-1, -2, -3, -4, -5]\n"
     ]
    }
   ],
   "source": [
    "#FILTER POSITIVE AND NEGATIVE NUMBERS\n",
    "positive=list(filter(lambda a:a>0,[1,2,3,4,5,6,-1,-2,-3,-4,-5,0]))\n",
    "negative=list(filter(lambda a:a<0,[1,2,3,4,5,6,-1,-2,-3,-4,-5,0]))\n",
    "print(positive)\n",
    "print(negative)"
   ]
  },
  {
   "cell_type": "code",
   "execution_count": null,
   "id": "98b0db91-3f1d-40bd-af9a-5ad9fa6e076e",
   "metadata": {},
   "outputs": [],
   "source": []
  }
 ],
 "metadata": {
  "kernelspec": {
   "display_name": "Python 3 (ipykernel)",
   "language": "python",
   "name": "python3"
  },
  "language_info": {
   "codemirror_mode": {
    "name": "ipython",
    "version": 3
   },
   "file_extension": ".py",
   "mimetype": "text/x-python",
   "name": "python",
   "nbconvert_exporter": "python",
   "pygments_lexer": "ipython3",
   "version": "3.10.8"
  }
 },
 "nbformat": 4,
 "nbformat_minor": 5
}
